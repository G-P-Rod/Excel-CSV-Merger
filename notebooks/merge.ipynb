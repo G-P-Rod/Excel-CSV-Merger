{
 "cells": [
  {
   "cell_type": "code",
   "execution_count": 1,
   "id": "d327a4ee",
   "metadata": {},
   "outputs": [],
   "source": [
    "import os\n",
    "import pandas as pd"
   ]
  },
  {
   "cell_type": "code",
   "execution_count": 3,
   "id": "e29a442b",
   "metadata": {
    "scrolled": true
   },
   "outputs": [],
   "source": [
    "path = r'C:\\Users\\Grzegorz\\Documents\\GitHub\\merge_data\\data\\raw'\n",
    "\n",
    "files_path = os.listdir(path)"
   ]
  },
  {
   "cell_type": "code",
   "execution_count": 5,
   "id": "127345b1",
   "metadata": {},
   "outputs": [
    {
     "name": "stdout",
     "output_type": "stream",
     "text": [
      "From 2023-01-31.xlsx added 1000 to dataframe.\n",
      "From 2023-02-28.xlsx added 1000 to dataframe.\n",
      "From 2023-03-31.xlsx added 1000 to dataframe.\n",
      "From 2023-04-30.xlsx added 1000 to dataframe.\n"
     ]
    }
   ],
   "source": [
    "df_list = []\n",
    "\n",
    "for file in files_path:\n",
    "    if file.endswith(('.xlsx', 'xls')):\n",
    "        file_path = os.path.join(path, file)        \n",
    "        df = pd.read_excel(file_path, engine='openpyxl')\n",
    "        df['Date'] = file.split('.')[0]\n",
    "        df_list.append(df)\n",
    "        \n",
    "        print(f'From {file} added {df.shape[0]} to dataframe.')"
   ]
  },
  {
   "cell_type": "code",
   "execution_count": 7,
   "id": "0ac1d10f",
   "metadata": {},
   "outputs": [
    {
     "name": "stdout",
     "output_type": "stream",
     "text": [
      "Successfully merged 4000 rows x 7 columns.\n"
     ]
    }
   ],
   "source": [
    "excl_merged = pd.concat(df_list, ignore_index=False)\n",
    "\n",
    "merge = excl_merged.to_excel(r'C:\\Users\\Grzegorz\\Documents\\GitHub\\merge_data\\data\\processed\\masterdata.xlsx', index=False)\n",
    "print(f'Successfully merged {excl_merged.shape[0]} rows x {excl_merged.shape[1]} columns.')"
   ]
  },
  {
   "cell_type": "code",
   "execution_count": null,
   "id": "1dfe9cc7",
   "metadata": {},
   "outputs": [],
   "source": []
  },
  {
   "cell_type": "code",
   "execution_count": null,
   "id": "740ce77d",
   "metadata": {},
   "outputs": [],
   "source": []
  },
  {
   "cell_type": "code",
   "execution_count": null,
   "id": "1e2201d0",
   "metadata": {},
   "outputs": [],
   "source": []
  }
 ],
 "metadata": {
  "kernelspec": {
   "display_name": "Python 3 (ipykernel)",
   "language": "python",
   "name": "python3"
  },
  "language_info": {
   "codemirror_mode": {
    "name": "ipython",
    "version": 3
   },
   "file_extension": ".py",
   "mimetype": "text/x-python",
   "name": "python",
   "nbconvert_exporter": "python",
   "pygments_lexer": "ipython3",
   "version": "3.9.12"
  }
 },
 "nbformat": 4,
 "nbformat_minor": 5
}
