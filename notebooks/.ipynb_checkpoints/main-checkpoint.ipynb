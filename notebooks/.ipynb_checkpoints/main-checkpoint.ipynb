{
 "cells": [
  {
   "cell_type": "code",
   "execution_count": 1,
   "id": "a82fb787",
   "metadata": {},
   "outputs": [
    {
     "name": "stdout",
     "output_type": "stream",
     "text": [
      "Pandas version:  2.2.1\n"
     ]
    }
   ],
   "source": [
    "import os\n",
    "import pandas as pd\n",
    "\n",
    "print('Pandas version: ', pd.__version__)"
   ]
  },
  {
   "cell_type": "code",
   "execution_count": 2,
   "id": "d327a4ee",
   "metadata": {
    "scrolled": true
   },
   "outputs": [],
   "source": [
    "#Iterate through xls files in the source path.\n",
    "def process_excel_files(source_path, df_list_xls):\n",
    "    for file in os.listdir(source_path):\n",
    "        if file.endswith(('.xlsx', 'xls')):\n",
    "            file_path = os.path.join(source_path, file)        \n",
    "            df = pd.read_excel(file_path, engine='openpyxl')\n",
    "\n",
    "            #Add a 'Date' column based on the file name. If you files are split in wrong place, change string below:\n",
    "            df['Date'] = file.split('.')[0]\n",
    "            df_list_xls.append(df)\n",
    "\n",
    "            print(f'From {file} added {df.shape[0]} to dataframe.')\n",
    "\n",
    "#Iterate through csv files in the source path.\n",
    "def process_csv_files(source_path, df_list_csv):\n",
    "    for file in os.listdir(source_path):\n",
    "        #Checking if the file has the correct extension.\n",
    "        if file.endswith('.csv'):\n",
    "            file_path = os.path.join(source_path, file)        \n",
    "            df = pd.read_csv(file_path)\n",
    "\n",
    "            #Add a 'Date' column based on the file name. If you files are split in wrong place, change string below:\n",
    "            df['Date'] = file.split('.')[0]\n",
    "            df_list_csv.append(df)\n",
    "\n",
    "            print(f'From {file} added {df.shape[0]} to dataframe.')"
   ]
  },
  {
   "cell_type": "code",
   "execution_count": 3,
   "id": "3559f9c3",
   "metadata": {},
   "outputs": [],
   "source": [
    "def main():\n",
    "    \n",
    "    #Get current and parent directory directory.\n",
    "    current_path = os.getcwd()\n",
    "    parent_directory = os.path.dirname(current_path)\n",
    "\n",
    "    #Create a path to the source folder where the raw data is located.\n",
    "    source_path = os.path.join(parent_directory, 'data', 'raw')\n",
    "\n",
    "    #Create a path to the destination file.\n",
    "    destination_path_xls =os.path.join(parent_directory, 'data', 'processed', 'masterdata_xls.xlsx')\n",
    "    destination_path_csv =os.path.join(parent_directory, 'data', 'processed', 'masterdata_csv.xlsx')\n",
    "    \n",
    "    #Empty list to storage dataframe.\n",
    "    df_list_xls = []\n",
    "    df_list_csv = []\n",
    "    \n",
    "    # Process Excel files.\n",
    "    process_excel_files(source_path, df_list_xls)\n",
    "\n",
    "    # Process CSV files.\n",
    "    process_csv_files(source_path, df_list_csv)\n",
    "    \n",
    "    #Try to connect and save the combined data frame. Handle error when there is no data to merge.\n",
    "    try:\n",
    "        xls_merge = pd.concat(df_list_xls, ignore_index=False)\n",
    "        merged_xls = xls_merge.to_excel(destination_path_xls, index=False)\n",
    "        print(f'Successfully XLS merged {xls_merge.shape[0]} rows x {xls_merge.shape[1]} columns.')\n",
    "    except ValueError as empty_xls:\n",
    "        print(f\"No XLS data to merge: {empty_xls}\")\n",
    "\n",
    "    #Try to connect and save the combined data frame. Handle error when there is no data to merge.\n",
    "    try:\n",
    "        csv_merge = pd.concat(df_list_csv, ignore_index=False)\n",
    "        merged_csv = csv_merge.to_excel(destination_path_csv, index=False)\n",
    "        print(f'Successfully CSV merged {csv_merge.shape[0]} rows x {csv_merge.shape[1]} columns.')\n",
    "    except ValueError as empty_csv:\n",
    "        print(f\"No CSV data to merge: {empty_csv}\")"
   ]
  },
  {
   "cell_type": "code",
   "execution_count": 4,
   "id": "cc15b6cf",
   "metadata": {
    "scrolled": true
   },
   "outputs": [
    {
     "name": "stdout",
     "output_type": "stream",
     "text": [
      "From 2023-01-31.xlsx added 1000 to dataframe.\n",
      "From 2023-02-28.xlsx added 1000 to dataframe.\n",
      "From 2023-03-31.xlsx added 1000 to dataframe.\n",
      "From 2023-04-30.xlsx added 1000 to dataframe.\n",
      "From 2023-05-31.xlsx added 1000 to dataframe.\n",
      "From 2023-06-30.xlsx added 1000 to dataframe.\n",
      "From 2023-01-31.csv added 1000 to dataframe.\n",
      "From 2023-02-28.csv added 1000 to dataframe.\n",
      "From 2023-03-31.csv added 1000 to dataframe.\n",
      "From 2023-04-30.csv added 1000 to dataframe.\n",
      "From 2023-05-31.csv added 1000 to dataframe.\n",
      "From 2023-06-30.csv added 1000 to dataframe.\n",
      "Successfully XLS merged 6000 rows x 7 columns.\n",
      "Successfully CSV merged 6000 rows x 7 columns.\n"
     ]
    }
   ],
   "source": [
    "if __name__ == '__main__':\n",
    "    main()"
   ]
  }
 ],
 "metadata": {
  "kernelspec": {
   "display_name": "Python 3 (ipykernel)",
   "language": "python",
   "name": "python3"
  },
  "language_info": {
   "codemirror_mode": {
    "name": "ipython",
    "version": 3
   },
   "file_extension": ".py",
   "mimetype": "text/x-python",
   "name": "python",
   "nbconvert_exporter": "python",
   "pygments_lexer": "ipython3",
   "version": "3.11.5"
  }
 },
 "nbformat": 4,
 "nbformat_minor": 5
}
